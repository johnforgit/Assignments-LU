{
  "nbformat": 4,
  "nbformat_minor": 0,
  "metadata": {
    "colab": {
      "name": "Day 3.ipynb",
      "provenance": [],
      "authorship_tag": "ABX9TyPfjUNcFzpcJAEanuR2ilx/",
      "include_colab_link": true
    },
    "kernelspec": {
      "name": "python3",
      "display_name": "Python 3"
    }
  },
  "cells": [
    {
      "cell_type": "markdown",
      "metadata": {
        "id": "view-in-github",
        "colab_type": "text"
      },
      "source": [
        "<a href=\"https://colab.research.google.com/github/johnforgit/Assignments-LU/blob/main/Day_3.ipynb\" target=\"_parent\"><img src=\"https://colab.research.google.com/assets/colab-badge.svg\" alt=\"Open In Colab\"/></a>"
      ]
    },
    {
      "cell_type": "code",
      "metadata": {
        "id": "yPOLoNUKZIJz"
      },
      "source": [
        "# Q No1\n",
        "import numpy as np\n",
        "arr=np.arange(2,50,3)\n",
        "print(arr)\n",
        "\n",
        "# Q No2\n",
        "l1=eval(input(\"Enter a list:\"))\n",
        "l2=eval(input(\"Enter another list:\"))\n",
        "arr1=np.array(l1)\n",
        "arr2=np.array(l2)\n",
        "final=np.sort(concatenate(arr1,arr2))\n",
        "print(\"The concatenated array is :\",final)\n",
        "\n",
        "# Q No3\n",
        "arr=np.arange(1,100)\n",
        "print(\"Dimensions:\",arr.ndim)\n",
        "print(\"Size:\".arr.size)\n",
        "\n",
        "# Q No4\n",
        "arr=np.array([1,2,3,4,5,6,7,8,9,10])\n",
        "a=arr\n",
        "a=a[:, np.newaxis]\n",
        "print(a)\n",
        "print(arr)\n",
        "a=arr\n",
        "a=np.expand_dims(t,2)\n",
        "print(a)\n",
        "\n",
        "# Q No5\n",
        "arr1=[[1,2,3],[4,5,6]]\n",
        "arr2=[[10,9,8],[7,6,5]]\n",
        "harr=np.hstack(arr1,arr2)\n",
        "varr=np.vstack(arr1.arr2)\n",
        "print(harr)\n",
        "print(varr)\n",
        "\n",
        "# Q No6\n",
        "arr=np.arange(1,10)\n",
        "print(np.unique(arr,return_counts=True))"
      ],
      "execution_count": null,
      "outputs": []
    }
  ]
}