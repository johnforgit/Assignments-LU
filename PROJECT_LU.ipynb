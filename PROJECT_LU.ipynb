{
  "nbformat": 4,
  "nbformat_minor": 0,
  "metadata": {
    "colab": {
      "name": "PROJECT LU.ipynb",
      "provenance": [],
      "authorship_tag": "ABX9TyNsuZoOJD7j2hQDiitKzlIK",
      "include_colab_link": true
    },
    "kernelspec": {
      "name": "python3",
      "display_name": "Python 3"
    }
  },
  "cells": [
    {
      "cell_type": "markdown",
      "metadata": {
        "id": "view-in-github",
        "colab_type": "text"
      },
      "source": [
        "<a href=\"https://colab.research.google.com/github/johnforgit/Assignments-LU/blob/main/PROJECT_LU.ipynb\" target=\"_parent\"><img src=\"https://colab.research.google.com/assets/colab-badge.svg\" alt=\"Open In Colab\"/></a>"
      ]
    },
    {
      "cell_type": "code",
      "metadata": {
        "id": "bMwazT_MWwqy"
      },
      "source": [
        "# Task1\n",
        "import pandas as pd\n",
        "dat=pd.read_csv('pubg - Dr. Darshan Ingle.csv')\n",
        "\n",
        "# Task2\n",
        "print(dat.dtypes)\n",
        "\n",
        "# Task3\n",
        "print(dat.describe())\n",
        "\n",
        "# Task4\n",
        "print(dat.kills.mean())\n",
        "\n",
        "# Task5\n",
        "import numpy as np\n",
        "np.percentile(dat.kills,99)\n",
        "\n",
        "# Task6\n",
        "print(dat.kills.max())\n",
        "\n",
        "# Task7\n",
        "print(dat.columns)\n",
        "\n",
        "# Task8\n",
        "import seaborn as sb\n",
        "print(sb.distplot(dat.matchDuration))\n",
        "\n",
        "# Task9\n",
        "print(sb.distplot(dat.walkDistance))\n",
        "\n",
        "# Task10\n",
        "import matplotlib.pyplot as plt\n",
        "fig,axs=plt.subplots(2,1)\n",
        "print(sb.distplot(dat.matchDuration,ax=axs[0]))\n",
        "print(sb.distplot(dat.walkDistance,ax=axs[1]))\n",
        "\n",
        "# Task11\n",
        "import matplotlib.pyplot as plt\n",
        "fig,axs=plt.subplots(1,2)\n",
        "print(sb.distplot(dat.matchDuration,ax=axs[0]))\n",
        "print(sb.distplot(dat.walkDistance,ax=axs[1]))\n",
        "\n",
        "# Task12\n",
        "print(sb.pairplot(dat))\n",
        "\n",
        "# Task13\n",
        "print(dat.matchType.value_counts())\n",
        "\n",
        "# Task14\n",
        "print(sb.barplot(dat.matchType,data.killPoints))\n",
        "plt.xticks(rotation=70)\n",
        "\n",
        "# Task15\n",
        "print(sb.barplot(dat.matchType,data.weaponsAcquired))\n",
        "plt.xticks(rotation=70)\n",
        "\n",
        "# Task16\n",
        "print(\n",
        "dat.select_dtypes(exclude=['number']))\n",
        "\n",
        "# Task17\n",
        "print(sb.boxplot(dat.matchType,dat.winPlacePerc))\n",
        "plt.xticks(rotation=70)\n",
        "\n",
        "# Task18\n",
        "print(sb.boxplot(dat.matchType,dat.matchDuration))\n",
        "plt.xticks(rotation=70)\n",
        "\n",
        "# Task19\n",
        "print(sb.boxplot(dat.matchDuration,dat.matchType))\n",
        "plt.xticks(rotation=70)\n",
        "\n",
        "# Task20\n",
        "dat['KILL']=(dat.headshotKills+dat.roadKills+dat.teamKills)\n",
        "kd=pd.DataFrame(dat[['headshotKills','roadKills','teamKills','KILL']])\n",
        "print(kd.head())\n",
        "\n",
        "# Task21\n",
        "dat['winPlacePerc']=round(dat['winPlacePerc'],2)\n",
        "print(dat['winPlacePerc'])\n",
        "\n",
        "# Task22\n",
        "l= []\n",
        "for i in range(100):\n",
        "    l.append(dat['damageDealt'].sample(50).mean())\n",
        "means = np.array(l)\n",
        "sb.distplot(means);"
      ],
      "execution_count": null,
      "outputs": []
    },
    {
      "cell_type": "markdown",
      "metadata": {
        "id": "bFaBs9dxcTOh"
      },
      "source": [
        "THIS IS THE PROJECT AS PART OF LETS UPGRADE DATA SCIENCE COURSE"
      ]
    }
  ]
}