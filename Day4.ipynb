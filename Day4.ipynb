{
  "nbformat": 4,
  "nbformat_minor": 0,
  "metadata": {
    "colab": {
      "name": "Day4.ipynb",
      "provenance": [],
      "authorship_tag": "ABX9TyOj+LUBbnSqQHoOv1DGkbzG",
      "include_colab_link": true
    },
    "kernelspec": {
      "name": "python3",
      "display_name": "Python 3"
    }
  },
  "cells": [
    {
      "cell_type": "markdown",
      "metadata": {
        "id": "view-in-github",
        "colab_type": "text"
      },
      "source": [
        "<a href=\"https://colab.research.google.com/github/johnforgit/Assignments-LU/blob/main/Day4.ipynb\" target=\"_parent\"><img src=\"https://colab.research.google.com/assets/colab-badge.svg\" alt=\"Open In Colab\"/></a>"
      ]
    },
    {
      "cell_type": "code",
      "metadata": {
        "id": "L0GUTc-dUHZx"
      },
      "source": [
        "# Q No1\n",
        "import pandas as pd\n",
        "print(\"VERSION:\"pd.__version__)\n",
        "\n",
        "# Q No2\n",
        "import numpy as np\n",
        "arr=np.array([1,2,3,4,5])\n",
        "ser=pd.Series(arr)\n",
        "print(ser)\n",
        "\n",
        "# Q No3\n",
        "df=pd.DataFrame(arr)\n",
        "df['index']=ser.index\n",
        "print(df)\n",
        "\n",
        "# Q No4\n",
        "import seaborn as sbn\n",
        "sbn.get_dataset_names()\n",
        "\n",
        "data=sbn.load_dataset('mpg')\n",
        "print(data)\n",
        "\n",
        "# Q No5\n",
        "print(data['origin'].unique())\n",
        "\n",
        "# Q No6\n",
        "print(data[data['origin']=='usa'])"
      ],
      "execution_count": null,
      "outputs": []
    }
  ]
}